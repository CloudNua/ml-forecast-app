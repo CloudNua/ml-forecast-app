{
 "metadata": {
  "language_info": {
   "codemirror_mode": {
    "name": "ipython",
    "version": 3
   },
   "file_extension": ".py",
   "mimetype": "text/x-python",
   "name": "python",
   "nbconvert_exporter": "python",
   "pygments_lexer": "ipython3",
   "version": 3
  },
  "orig_nbformat": 2
 },
 "nbformat": 4,
 "nbformat_minor": 2,
 "cells": [
  {
   "source": [
    "# Stock Forecast\n",
    "\n",
    "Using Facebook's Prophet forecasting library to predicate stock prices\n",
    "\n",
    "\n",
    "## Environment Requirements\n",
    "Python >= 3.7.3\n",
    "\n",
    "Python libraries:\n",
    "\n",
    "- streamlit\n",
    "- yfinance\n",
    "- pystan\n",
    "- Prophet\n",
    "- fbprophet\n",
    "- plotly\n",
    "\n",
    "\n",
    "## Execution"
   ],
   "cell_type": "markdown",
   "metadata": {}
  },
  {
   "source": [
    "$ python3 .src/main.py"
   ],
   "cell_type": "code",
   "metadata": {},
   "execution_count": null,
   "outputs": []
  },
  {
   "source": [
    "## Import Modules\n"
   ],
   "cell_type": "markdown",
   "metadata": {}
  },
  {
   "cell_type": "code",
   "execution_count": null,
   "metadata": {},
   "outputs": [],
   "source": [
    "import streamlit as st\n",
    "from datetime import date\n",
    "\n",
    "import yfinance as yf\n",
    "from fbprophet import Prophet\n",
    "from fbprophet.plot import plot_plotly\n",
    "from plotly import graph_objs as go"
   ]
  },
  {
   "source": [
    "## Data capture points\n",
    "\n",
    "We declare the point in time using a string value when we want to start running the forecast from and also todays date"
   ],
   "cell_type": "markdown",
   "metadata": {}
  },
  {
   "cell_type": "code",
   "execution_count": null,
   "metadata": {},
   "outputs": [],
   "source": [
    "START = \"2000-01-01\"\n",
    "TODAY = date.today().strftime(\"%Y-%m-%d\")"
   ]
  },
  {
   "source": [
    "## Application data\n",
    "\n",
    "- Construct an application title\n",
    "- A tuple of stocks, using a the standard abbrevaied stock name, that we want to analyse\n",
    "- A select box widget to choose a sepefic stock\n",
    "- Slider widget to select the number of year that we want to get a predication for"
   ],
   "cell_type": "markdown",
   "metadata": {}
  },
  {
   "cell_type": "code",
   "execution_count": null,
   "metadata": {},
   "outputs": [],
   "source": [
    "st.title('Stock Forecast App')\n",
    "\n",
    "stocks = ('TSLA', 'AAPL')\n",
    "selected_stock = st.selectbox('Select dataset for prediction', stocks)\n",
    "\n",
    "n_years = st.slider('Years of prediction:', 1, 5)\n",
    "period = n_years * 365"
   ]
  },
  {
   "source": [
    "## Fetching data\n",
    "\n",
    "A function to analyse stock data using Yahoo Finance\n",
    "\n",
    "- The fuction will download all the data from the date as decalred by START varibale and the TODAY varibale\n",
    "- The data that is returned is already in Pandas data set\n",
    "- Using inplace=True ensures that the date is returned in the first column\n",
    "- Cache the data for each specfic stock\n",
    "\n",
    "### Function"
   ],
   "cell_type": "markdown",
   "metadata": {}
  },
  {
   "cell_type": "code",
   "execution_count": null,
   "metadata": {},
   "outputs": [],
   "source": [
    "@st.cache\n",
    "def load_data(ticker):\n",
    "    data = yf.download(ticker, START, TODAY)\n",
    "    data.reset_index(inplace=True)\n",
    "    return data"
   ]
  },
  {
   "source": [
    "### User Notification\n",
    "\n",
    "Call the above function giving sufficient user feedback\n",
    "\n",
    "- Subtext widet indicating that data is being fetched\n",
    "- Subtext widget indicating that fecting the data has completed"
   ],
   "cell_type": "markdown",
   "metadata": {}
  },
  {
   "source": [
    "data_load_state = st.text('Loading data...')\n",
    "data = load_data(selected_stock)\n",
    "data_load_state.text('Loading data... done!')"
   ],
   "cell_type": "code",
   "metadata": {},
   "execution_count": null,
   "outputs": []
  },
  {
   "source": [
    "## Plot the data\n",
    "\n",
    "- Streamlit can handle Pandas dataframe\n",
    "\n",
    "\n",
    "The data table that is produced should be in the following columated format:\n",
    "\n",
    "\n",
    "Today's date | Open Price | High Price | Low Price | Close Price | \n",
    "\n",
    "### Raw data frame"
   ],
   "cell_type": "markdown",
   "metadata": {}
  },
  {
   "cell_type": "code",
   "execution_count": null,
   "metadata": {},
   "outputs": [],
   "source": [
    "st.subheader('Raw data')\n",
    "st.write(data.tail())"
   ]
  },
  {
   "source": [
    "### Graph\n",
    "\n",
    "- Using a ploty graph object\n",
    "- Create a graph object figure\n",
    "- Scatter using named X and Y axis for a stocks opening and close price\n",
    "- Provide a slider on the graph to select specfic time series"
   ],
   "cell_type": "markdown",
   "metadata": {}
  },
  {
   "cell_type": "code",
   "execution_count": null,
   "metadata": {},
   "outputs": [],
   "source": [
    "# Plot raw data\n",
    "def plot_raw_data():\n",
    "\tfig = go.Figure()\n",
    "\tfig.add_trace(go.Scatter(x=data['Date'], y=data['Open'], name=\"stock_open\"))\n",
    "\tfig.add_trace(go.Scatter(x=data['Date'], y=data['Close'], name=\"stock_close\"))\n",
    "\tfig.layout.update(title_text='Time Series data with Rangeslider', xaxis_rangeslider_visible=True)\n",
    "\tst.plotly_chart(fig)\n",
    "\t\n",
    "plot_raw_data()"
   ]
  },
  {
   "source": [
    "## Forecast using ML Library\n",
    "\n",
    "Before executing the training model Facebook Prophet expects the dataframe to be in a specific format: \n",
    "\n",
    "Dataframe with two columns: ds and y. The ds (datestamp) column should be of a format expected by Pandas, ideally YYYY-MM-DD for a date or YYYY-MM-DD HH:MM:SS for a timestamp. The y column must be numeric, and represents the measurement we wish to forecast.\n",
    "\n",
    "In this example: \n",
    "- ds = Date\n",
    "- y = Close (Stock closing price)\n",
    "\n",
    "### Data Training"
   ],
   "cell_type": "markdown",
   "metadata": {}
  },
  {
   "cell_type": "code",
   "execution_count": null,
   "metadata": {},
   "outputs": [],
   "source": [
    "# Predict forecast with Prophet.\n",
    "df_train = data[['Date','Close']]\n",
    "df_train = df_train.rename(columns={\"Date\": \"ds\", \"Close\": \"y\"})"
   ]
  },
  {
   "source": [
    "### Facebook Prophet Model\n",
    "\n",
    "- Fit training data\n",
    "- For the forecase we need a date into the future. Using the previously declared period varibale which is decalred as an integer value based on number of days per year\n",
    "- Forecase data is held in a data frame"
   ],
   "cell_type": "markdown",
   "metadata": {}
  },
  {
   "cell_type": "code",
   "execution_count": null,
   "metadata": {},
   "outputs": [],
   "source": [
    "m = Prophet()\n",
    "m.fit(df_train)\n",
    "future = m.make_future_dataframe(periods=period)\n",
    "forecast = m.predict(future)"
   ]
  },
  {
   "source": [
    "### Forecast data\n",
    "\n",
    "- Using previous logic to show a raw dataframe we can display the Forecast data via a table"
   ],
   "cell_type": "markdown",
   "metadata": {}
  },
  {
   "cell_type": "code",
   "execution_count": null,
   "metadata": {},
   "outputs": [],
   "source": [
    "# Show and plot forecast\n",
    "st.subheader('Forecast data')\n",
    "st.write(forecast.tail())"
   ]
  },
  {
   "source": [
    "### Plotting the forecast\n",
    "\n",
    "- Using Ploty function\n",
    "- Using previously saved varibales containing the forecast model and the forecast dataframe\n",
    "- Using streamlit to plot the "
   ],
   "cell_type": "markdown",
   "metadata": {}
  },
  {
   "cell_type": "code",
   "execution_count": null,
   "metadata": {},
   "outputs": [],
   "source": [
    "st.write(f'Forecast plot for {n_years} years')\n",
    "fig1 = plot_plotly(m, forecast)\n",
    "st.plotly_chart(fig1)"
   ]
  },
  {
   "source": [
    "### Plotting individual components\n",
    "\n",
    "- Using Steamlit to display forecasted components"
   ],
   "cell_type": "markdown",
   "metadata": {}
  },
  {
   "cell_type": "code",
   "execution_count": null,
   "metadata": {},
   "outputs": [],
   "source": [
    "st.write(\"Forecast components\")\n",
    "fig2 = m.plot_components(forecast)\n",
    "st.write(fig2)"
   ]
  }
 ]
}